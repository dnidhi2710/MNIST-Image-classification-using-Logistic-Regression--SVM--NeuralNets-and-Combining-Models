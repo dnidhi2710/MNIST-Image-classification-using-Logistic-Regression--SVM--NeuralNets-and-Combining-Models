{
 "cells": [
  {
   "cell_type": "markdown",
   "metadata": {},
   "source": [
    "## Load MNIST on Python 3.x"
   ]
  },
  {
   "cell_type": "code",
   "execution_count": 1,
   "metadata": {},
   "outputs": [],
   "source": [
    "import pickle\n",
    "import gzip\n",
    "import matplotlib.pyplot as plt"
   ]
  },
  {
   "cell_type": "code",
   "execution_count": 2,
   "metadata": {},
   "outputs": [],
   "source": [
    "filename = 'mnist.pkl.gz'\n",
    "f = gzip.open(filename, 'rb')\n",
    "training_data, validation_data, test_data = pickle.load(f, encoding='latin1')\n",
    "f.close()"
   ]
  },
  {
   "cell_type": "markdown",
   "metadata": {},
   "source": [
    "# Load USPS on Python 3.x"
   ]
  },
  {
   "cell_type": "code",
   "execution_count": 3,
   "metadata": {},
   "outputs": [],
   "source": [
    "from PIL import Image\n",
    "import os\n",
    "import numpy as np\n",
    "from sklearn import metrics"
   ]
  },
  {
   "cell_type": "code",
   "execution_count": 4,
   "metadata": {},
   "outputs": [],
   "source": [
    "USPSMat  = []\n",
    "USPSTar  = []\n",
    "curPath  = 'USPSdata/Numerals'\n",
    "savedImg = []\n",
    "\n",
    "for j in range(0,10):\n",
    "    curFolderPath = curPath + '/' + str(j)\n",
    "    imgs =  os.listdir(curFolderPath)\n",
    "    for img in imgs:\n",
    "        curImg = curFolderPath + '/' + img\n",
    "        if curImg[-3:] == 'png':\n",
    "            img = Image.open(curImg,'r')\n",
    "            img = img.resize((28, 28))\n",
    "            savedImg = img\n",
    "            imgdata = (255-np.array(img.getdata()))/255\n",
    "            USPSMat.append(imgdata)\n",
    "            USPSTar.append(j)"
   ]
  },
  {
   "cell_type": "code",
   "execution_count": 5,
   "metadata": {},
   "outputs": [],
   "source": [
    "training_raw_data = training_data[0]\n",
    "training_output = training_data[1]\n",
    "\n",
    "validation_raw_data = validation_data[0]\n",
    "validation_output = validation_data[1]\n",
    "\n",
    "test_raw_data = test_data[0]\n",
    "test_output = test_data[1]"
   ]
  },
  {
   "cell_type": "markdown",
   "metadata": {},
   "source": [
    "# Logistic Regression"
   ]
  },
  {
   "cell_type": "code",
   "execution_count": 6,
   "metadata": {},
   "outputs": [],
   "source": [
    "def softmax(z):\n",
    "    z -= np.max(z)\n",
    "    sm = (np.exp(z).T / np.sum(np.exp(z),axis=1)).T\n",
    "    return sm"
   ]
  },
  {
   "cell_type": "code",
   "execution_count": 7,
   "metadata": {},
   "outputs": [],
   "source": [
    "def one_hot_encode(training_output):\n",
    "    target = []\n",
    "    for i in training_output:\n",
    "        array = np.zeros(10)\n",
    "        array[i] = 1\n",
    "        target.append(array)\n",
    "    return np.array(target)"
   ]
  },
  {
   "cell_type": "code",
   "execution_count": 8,
   "metadata": {},
   "outputs": [],
   "source": [
    "X = training_raw_data"
   ]
  },
  {
   "cell_type": "code",
   "execution_count": 9,
   "metadata": {},
   "outputs": [],
   "source": [
    "target = one_hot_encode(training_output)"
   ]
  },
  {
   "cell_type": "code",
   "execution_count": 10,
   "metadata": {},
   "outputs": [],
   "source": [
    "def apply_gradient_descent(W,lamb):\n",
    "    activation = np.matmul(X,W)\n",
    "    y = softmax(activation)\n",
    "    loss = (-1/X.shape[0]) * np.sum(target * np.log(y)) + (lamb/2)*np.sum(W*W) \n",
    "    gradient =(-1/X.shape[0]) * np.dot(X.T,(target - y)) + lamb*W\n",
    "    return loss,gradient"
   ]
  },
  {
   "cell_type": "code",
   "execution_count": 11,
   "metadata": {},
   "outputs": [],
   "source": [
    "def getAccuracy(X,Y,W):\n",
    "    prediction = np.argmax(softmax(np.dot(X,W)),axis=1)\n",
    "    matching = sum(prediction == Y)\n",
    "    accuracy = matching /(float(len(Y)))\n",
    "    return accuracy"
   ]
  },
  {
   "cell_type": "code",
   "execution_count": 49,
   "metadata": {},
   "outputs": [],
   "source": [
    "def train_logistic_accuracy():\n",
    "    learning_rate = 0.1\n",
    "    lamb = 0.1\n",
    "    loss_arr = []\n",
    "    W = np.zeros((784, 10))\n",
    "    for i in range(250):\n",
    "        loss,grad = apply_gradient_descent(W,lamb)\n",
    "        loss_arr.append(loss)\n",
    "        W = W - (learning_rate * grad)\n",
    "    return W,loss_arr\n"
   ]
  },
  {
   "cell_type": "code",
   "execution_count": 50,
   "metadata": {},
   "outputs": [],
   "source": [
    "W,loss_array = train_logistic_accuracy()"
   ]
  },
  {
   "cell_type": "code",
   "execution_count": 51,
   "metadata": {},
   "outputs": [
    {
     "name": "stdout",
     "output_type": "stream",
     "text": [
      "training_accuracy :0.85776\n",
      "validation_accuracy :0.8747\n",
      "testing_accuracy :0.8697\n",
      "USPS accuracy :0.3352667633381669\n",
      "MNIST Confusion Matrix :\n",
      "[[ 948    0    2    3    0    2   16    1    8    0]\n",
      " [   0 1100    4    3    1    1    4    0   22    0]\n",
      " [  15   26  845   25   19    0   28   22   45    7]\n",
      " [   5    4   20  890    1   24    8   19   25   14]\n",
      " [   3   10    5    0  861    0   16    2   10   75]\n",
      " [  28   19    4   95   21  623   30    9   46   17]\n",
      " [  20    5   13    2   13   17  883    0    5    0]\n",
      " [   4   41   24    1   13    0    4  888    9   44]\n",
      " [  11   27   13   40   11   18   17   15  801   21]\n",
      " [  16   14   10   13   51    9    2   27    9  858]]\n",
      "USPS Confusion Matrix :\n",
      "[[ 715    5  398   49  330   39   73   36   89  266]\n",
      " [ 288  305  156  266  281   31   47  289  323   14]\n",
      " [ 291   44 1116  123   75   38  107   99   89   17]\n",
      " [ 169    4  140 1157   46  172   49   76  121   66]\n",
      " [ 130  105   37   51 1093   85   26  121  246  106]\n",
      " [ 255   26  223  244   58  822  150   83   99   40]\n",
      " [ 541   17  363   98  120   91  649   25   65   31]\n",
      " [ 220  261  344  372   71   69   45  282  299   37]\n",
      " [ 287   46  180  209  184  388  139   40  441   86]\n",
      " [ 111  240  169  408  196   54   18  360  319  125]]\n"
     ]
    },
    {
     "data": {
      "image/png": "[encoded data removed]",
      "text/plain": [
       "<Figure size 432x288 with 1 Axes>"
      ]
     },
     "metadata": {},
     "output_type": "display_data"
    }
   ],
   "source": [
    "training_accuracy = getAccuracy(training_raw_data,training_output,W)\n",
    "validation_accuracy = getAccuracy(validation_raw_data,validation_output,W)\n",
    "testing_accuracy = getAccuracy(test_raw_data,test_output,W)\n",
    "\n",
    "mnist_pred = np.argmax(softmax(np.dot(test_raw_data,W)),axis=1)\n",
    "mnist_metrix =  metrics.confusion_matrix(test_output, mnist_pred, labels=None, sample_weight=None)\n",
    "usps_accuracy = getAccuracy(USPSMat,USPSTar,W)\n",
    "usps_prediction = np.argmax(softmax(np.dot(USPSMat,W)),axis=1)\n",
    "usps_metrix =  metrics.confusion_matrix(USPSTar, usps_prediction, labels=None, sample_weight=None)\n",
    "plt.plot(loss_array)\n",
    "print(\"training_accuracy :\"+ str(training_accuracy))\n",
    "print(\"validation_accuracy :\"+ str(validation_accuracy))\n",
    "print(\"testing_accuracy :\"+ str(testing_accuracy))\n",
    "print(\"USPS accuracy :\"+ str(usps_accuracy))\n",
    "print(\"MNIST Confusion Matrix :\")\n",
    "print(mnist_metrix)\n",
    "print(\"USPS Confusion Matrix :\")\n",
    "print(usps_metrix)"
   ]
  },
  {
   "cell_type": "markdown",
   "metadata": {},
   "source": [
    "Neural Network"
   ]
  },
  {
   "cell_type": "code",
   "execution_count": 22,
   "metadata": {},
   "outputs": [
    {
     "name": "stderr",
     "output_type": "stream",
     "text": [
      "/Users/dhayanidhigunasekaran/anaconda/lib/python3.5/site-packages/h5py/__init__.py:36: FutureWarning: Conversion of the second argument of issubdtype from `float` to `np.floating` is deprecated. In future, it will be treated as `np.float64 == np.dtype(float).type`.\n",
      "  from ._conv import register_converters as _register_converters\n",
      "Using TensorFlow backend.\n"
     ]
    },
    {
     "name": "stdout",
     "output_type": "stream",
     "text": [
      "10000/10000 [==============================] - 1s 88us/step\n"
     ]
    }
   ],
   "source": [
    "import keras\n",
    "from keras.datasets import mnist\n",
    "from keras.layers import Dense\n",
    "from keras.models import Sequential\n",
    "(x_tra, y_tra), (x_te, y_te) = mnist.load_data()\n",
    "num_classes=10\n",
    "image_vector_size=28*28\n",
    "x_train = x_tra.reshape(x_tra.shape[0], image_vector_size)\n",
    "x_test = x_te.reshape(x_te.shape[0], image_vector_size)\n",
    "y_train = keras.utils.to_categorical(y_tra, num_classes)\n",
    "y_test = keras.utils.to_categorical(y_te, num_classes)\n",
    "image_size = 784 \n",
    "model = Sequential()\n",
    "model.add(Dense(units=64, activation='sigmoid', input_shape=(image_size,)))\n",
    "model.add(Dense(units=num_classes, activation='softmax'))\n",
    "model.compile(optimizer='sgd', loss='categorical_crossentropy',metrics=['accuracy'])\n",
    "history = model.fit(x_train, y_train, batch_size=128, epochs=10, verbose=False,validation_split=.1)\n",
    "nt_loss,accuracy = model.evaluate(x_test, y_test, verbose=False)\n",
    "nt_mnist_pred = model.predict_classes( x_test, batch_size=128, verbose=1)\n",
    "nt_metrix =  metrics.confusion_matrix(y_te, nt_mnist_pred, labels=None, sample_weight=None)"
   ]
  },
  {
   "cell_type": "code",
   "execution_count": 23,
   "metadata": {},
   "outputs": [],
   "source": [
    "USPSMat_test = np.array(USPSMat)\n",
    "USPSMat_test = USPSMat_test.reshape(USPSMat_test.shape[0], image_vector_size)\n",
    "USPSTar_cat = keras.utils.to_categorical(USPSTar, num_classes)"
   ]
  },
  {
   "cell_type": "code",
   "execution_count": 24,
   "metadata": {},
   "outputs": [],
   "source": [
    "nt_usps_loss,nt_usps_accuracy = model.evaluate(USPSMat_test, USPSTar_cat, verbose=False)"
   ]
  },
  {
   "cell_type": "code",
   "execution_count": 25,
   "metadata": {},
   "outputs": [
    {
     "name": "stdout",
     "output_type": "stream",
     "text": [
      "19999/19999 [==============================] - 2s 87us/step\n"
     ]
    }
   ],
   "source": [
    "val_pred = model.predict_classes(USPSMat_test, batch_size=128, verbose=1)\n",
    "metrix =  metrics.confusion_matrix(USPSTar, val_pred, labels=None, sample_weight=None)"
   ]
  },
  {
   "cell_type": "code",
   "execution_count": 26,
   "metadata": {},
   "outputs": [
    {
     "name": "stdout",
     "output_type": "stream",
     "text": [
      "Neural Network\n",
      "MNIST Accuracy:0.9214\n",
      "USPS Accuracy:0.29496474822847074\n",
      "MNIST Confusion Matrix\n",
      "[[ 951    0    3    2    2    6   11    1    4    0]\n",
      " [   0 1103    3    4    0    0    4    1   18    2]\n",
      " [   9    1  932   17   11    6   10   15   29    2]\n",
      " [   3    0   23  922    0   26    1   11   16    8]\n",
      " [   1    4    4    0  895    1   11    1    3   62]\n",
      " [  11    2    4   47    7  776   11    5   20    9]\n",
      " [  16    3    7    1   12   13  900    1    5    0]\n",
      " [   3   10   22    7    6    0    0  943    5   32]\n",
      " [  12    3    6   22    8   23   10   12  871    7]\n",
      " [  14    0    2   12   22   10    1   19    8  921]]\n",
      "USPS Confusion matrix\n",
      "[[ 765    0  523   44   81  199    7   45   30  306]\n",
      " [ 187   66 1040  295    4  138    1  250   11    8]\n",
      " [ 131    0 1633   59    9  136    0   14   12    5]\n",
      " [ 130    0  392 1091    0  349    1   27    5    5]\n",
      " [ 158   23  318   82  554  317    1  227  145  175]\n",
      " [ 169    4  384  121    4 1267    3   30   12    6]\n",
      " [ 377    0 1140   23   36  303   91   12    5   13]\n",
      " [ 230   23 1017  374    4  109    0  212   13   18]\n",
      " [ 292    4  492  168   24  857   10   28   89   36]\n",
      " [  61   53  427  474   27  225    0  429  173  131]]\n"
     ]
    }
   ],
   "source": [
    "print(\"Neural Network\")\n",
    "print(\"MNIST Accuracy:\"+ str(accuracy))\n",
    "print(\"USPS Accuracy:\"+str(nt_usps_accuracy))\n",
    "print(\"MNIST Confusion Matrix\")\n",
    "print(nt_metrix)\n",
    "print(\"USPS Confusion matrix\")\n",
    "print(metrix)"
   ]
  },
  {
   "cell_type": "code",
   "execution_count": 27,
   "metadata": {},
   "outputs": [
    {
     "name": "stdout",
     "output_type": "stream",
     "text": [
      "SVM\n",
      "MNIST accuracy:0.9835\n",
      "USPS Accuracy:0.2614130706535327\n",
      "MNIST Confustion matrix\n",
      "[[ 982    0    5    0    0    0    1    0    1    2]\n",
      " [   0 1056    1    2    0    0    2    1    2    0]\n",
      " [   1    0  980    0    0    1    0    3    5    0]\n",
      " [   0    0    3 1007    0    6    0    1   11    2]\n",
      " [   0    5    0    0  969    0    0    1    2    6]\n",
      " [   2    0    3   10    2  887    4    1    5    1]\n",
      " [   2    0    0    0    1    1  963    0    0    0]\n",
      " [   0    6    5    0    1    0    0 1071    0    7]\n",
      " [   1    0    4    4    0    3    1    0  995    1]\n",
      " [   2    3    2    7    8    3    0    5    6  925]]\n",
      "USPS Confusion matrix\n",
      "[[ 226    0 1564    2   26   35    2    0   79   66]\n",
      " [  78  257  713  172  262   77   12  337   88    4]\n",
      " [   8    0 1944    6    2   20    1    6   11    1]\n",
      " [   4    0 1193  725    0   41    0    0   37    0]\n",
      " [   6    0 1045   18  522   96    0   56  252    5]\n",
      " [  15    0 1305   16    1  626    0    0   37    0]\n",
      " [  78    0 1534    2   10   61  290    0   22    3]\n",
      " [  17    6 1435  129    6  134    0  220   52    1]\n",
      " [   7    0 1387   14    4  221    0    0  367    0]\n",
      " [   1    0 1508   79   26   29    0   39  267   51]]\n"
     ]
    }
   ],
   "source": [
    "# SVM & RandomForest\n",
    "from sklearn.svm import SVC\n",
    "classifier1 = SVC(kernel='rbf', C=2, gamma = 0.05)\n",
    "classifier1.fit(training_raw_data, training_output)\n",
    "validation_pred_svc = classifier1.predict(validation_raw_data)\n",
    "svc_metrix =  metrics.confusion_matrix(validation_output, validation_pred_svc, labels=None, sample_weight=None)\n",
    "svc_accuracy = classifier1.score(validation_raw_data, validation_output,sample_weight=None)\n",
    "\n",
    "validation_pred_svc_usps = classifier1.predict(USPSMat)\n",
    "svc_metrix_usps =  metrics.confusion_matrix(USPSTar, validation_pred_svc_usps, labels=None, sample_weight=None)\n",
    "\n",
    "svc_usps_accuracy = classifier1.score(USPSMat, USPSTar,sample_weight=None)\n",
    "print(\"SVM\")\n",
    "print(\"MNIST accuracy:\"+ str(svc_accuracy))\n",
    "print(\"USPS Accuracy:\"+ str(svc_usps_accuracy))\n",
    "print(\"MNIST Confustion matrix\")\n",
    "print(svc_metrix)\n",
    "print(\"USPS Confusion matrix\")\n",
    "print(svc_metrix_usps)"
   ]
  },
  {
   "cell_type": "code",
   "execution_count": 28,
   "metadata": {},
   "outputs": [
    {
     "name": "stderr",
     "output_type": "stream",
     "text": [
      "/Users/dhayanidhigunasekaran/anaconda/lib/python3.5/site-packages/sklearn/ensemble/weight_boosting.py:29: DeprecationWarning: numpy.core.umath_tests is an internal NumPy module and should not be imported. It will be removed in a future NumPy release.\n",
      "  from numpy.core.umath_tests import inner1d\n"
     ]
    },
    {
     "name": "stdout",
     "output_type": "stream",
     "text": [
      "Random Forest\n",
      "MNIST accuracy:0.9455\n",
      "USPS Accuracy:0.31401570078503926\n",
      "MNIST Confustion matrix\n",
      "[[ 978    0    1    2    1    0    2    0    5    2]\n",
      " [   0 1049    7    4    0    1    1    1    0    1]\n",
      " [   4    1  954    4    3    1    2   12    6    3]\n",
      " [   3    1   11  971    1   17    0    3   18    5]\n",
      " [   2    3    4    3  931    3    6    2    6   23]\n",
      " [   9    0    5   44    3  828   11    1    9    5]\n",
      " [   3    2    2    0    5    6  945    0    3    1]\n",
      " [   2    9   13    3    6    1    1 1045    1    9]\n",
      " [   3    8   12   21    3   18    4    6  922   12]\n",
      " [   5    0    2   13   21   12    4   12    7  885]]\n",
      "USPS Confusion matrix\n",
      "[[ 730   36  282   80  322  172   91  123   22  142]\n",
      " [ 111  582  208  145  140   60   64  652   26   12]\n",
      " [ 195  146 1038  133   62  147   60  163   22   33]\n",
      " [ 109   70  278  973   67  315   20   98   19   51]\n",
      " [  77  207  163   88  793  156   53  311   59   93]\n",
      " [ 271   74  221  233   59  927   50  122   21   22]\n",
      " [ 431  103  355  115  131  235  506   83   17   24]\n",
      " [  70  372  526  192   56  205   39  487   14   39]\n",
      " [ 181  120  317  315   96  616   78   96  136   45]\n",
      " [  87  299  369  305  215  135   39  388   55  108]]\n"
     ]
    }
   ],
   "source": [
    "from sklearn.ensemble import RandomForestClassifier\n",
    "#RandomForestClassifier\n",
    "classifier2 = RandomForestClassifier(n_estimators=10)\n",
    "classifier2.fit(training_raw_data, training_output)\n",
    "validation_pred_rf = classifier2.predict(validation_raw_data)\n",
    "rf_metrix =  metrics.confusion_matrix(validation_output, validation_pred_rf, labels=None, sample_weight=None)\n",
    "rf_accuracy = classifier2.score(test_raw_data, test_output,sample_weight=None)\n",
    "validation_pred_rf_usps = classifier2.predict(USPSMat)\n",
    "rf_metrix_usps =  metrics.confusion_matrix(USPSTar, validation_pred_rf_usps, labels=None, sample_weight=None)\n",
    "rf_usps_accuracy = classifier2.score(USPSMat, USPSTar,sample_weight=None)\n",
    "print(\"Random Forest\")\n",
    "print(\"MNIST accuracy:\"+ str(rf_accuracy))\n",
    "print(\"USPS Accuracy:\"+ str(rf_usps_accuracy))\n",
    "print(\"MNIST Confustion matrix\")\n",
    "print(rf_metrix)\n",
    "print(\"USPS Confusion matrix\")\n",
    "print(rf_metrix_usps)"
   ]
  },
  {
   "cell_type": "code",
   "execution_count": 33,
   "metadata": {},
   "outputs": [
    {
     "name": "stderr",
     "output_type": "stream",
     "text": [
      "/Users/dhayanidhigunasekaran/anaconda/lib/python3.5/site-packages/sklearn/preprocessing/label.py:151: DeprecationWarning: The truth value of an empty array is ambiguous. Returning False, but in future this will result in an error. Use `array.size > 0` to check that an array is not empty.\n",
      "  if diff:\n"
     ]
    },
    {
     "data": {
      "text/plain": [
       "0.9593"
      ]
     },
     "execution_count": 33,
     "metadata": {},
     "output_type": "execute_result"
    }
   ],
   "source": [
    "from sklearn.ensemble import VotingClassifier\n",
    "from sklearn.neural_network import MLPClassifier\n",
    "from sklearn.linear_model import LogisticRegression\n",
    "NN = MLPClassifier(solver='lbfgs', alpha=1e-5,hidden_layer_sizes=(5, 2), random_state=1)\n",
    "clf1 = LogisticRegression(solver='lbfgs', multi_class='multinomial',random_state=1)\n",
    "eclf = VotingClassifier(estimators=[ ('SVM', classifier1), ('RF', classifier2),('NN',NN),('logis',clf1)], voting='hard')\n",
    "\n",
    "eclf.fit(training_raw_data,training_output)\n",
    "eclf.score(test_raw_data,test_output)"
   ]
  },
  {
   "cell_type": "code",
   "execution_count": 52,
   "metadata": {},
   "outputs": [
    {
     "data": {
      "text/plain": [
       "[<matplotlib.lines.Line2D at 0x1a4e698fd0>]"
      ]
     },
     "execution_count": 52,
     "metadata": {},
     "output_type": "execute_result"
    },
    {
     "data": {
      "image/png": "[encoded data removed]",
      "text/plain": [
       "<Figure size 432x288 with 1 Axes>"
      ]
     },
     "metadata": {},
     "output_type": "display_data"
    }
   ],
   "source": [
    "m_value = [5,10,25,50,100,250,500,1000]\n",
    "erm_m = [75,79,82,85,86,86,87,87]\n",
    "plt.plot(m_value,erm_m,'go--', linewidth=2, markersize=12)"
   ]
  },
  {
   "cell_type": "code",
   "execution_count": 53,
   "metadata": {},
   "outputs": [
    {
     "data": {
      "text/plain": [
       "[<matplotlib.lines.Line2D at 0x116518c50>]"
      ]
     },
     "execution_count": 53,
     "metadata": {},
     "output_type": "execute_result"
    },
    {
     "data": {
      "image/png": "[encoded data removed]",
      "text/plain": [
       "<Figure size 432x288 with 1 Axes>"
      ]
     },
     "metadata": {},
     "output_type": "display_data"
    }
   ],
   "source": [
    "batch = [1024,512,256,128]\n",
    "acc = [87,89,91,92]\n",
    "plt.plot(batch,acc,color='red', marker='o', linestyle='dashed',linewidth=2, markersize=12)"
   ]
  },
  {
   "cell_type": "code",
   "execution_count": 55,
   "metadata": {},
   "outputs": [
    {
     "data": {
      "image/png": "[encoded data removed]",
      "text/plain": [
       "<Figure size 640x480 with 1 Axes>"
      ]
     },
     "metadata": {},
     "output_type": "display_data"
    }
   ],
   "source": [
    "plt.rcdefaults()\n",
    "fig, ax = plt.subplots()\n",
    "\n",
    "# Example data\n",
    "people = ('Logistic', 'Neural Net', 'SVM', 'RF','Ensemble')\n",
    "y_pos = np.arange(len(people))\n",
    "performance = (87,92,98,94,96)\n",
    "\n",
    "ax.barh(y_pos, performance, align='center',\n",
    "        color='green', ecolor='black')\n",
    "ax.set_yticks(y_pos)\n",
    "ax.set_yticklabels(people)\n",
    "ax.invert_yaxis()  # labels read top-to-bottom\n",
    "ax.set_xlabel('Accuracy')\n",
    "ax.set_title('MNIST Image classification')\n",
    "\n",
    "plt.show()"
   ]
  },
  {
   "cell_type": "code",
   "execution_count": null,
   "metadata": {},
   "outputs": [],
   "source": []
  }
 ],
 "metadata": {
  "kernelspec": {
   "display_name": "Python 3",
   "language": "python",
   "name": "python3"
  },
  "language_info": {
   "codemirror_mode": {
    "name": "ipython",
    "version": 3
   },
   "file_extension": ".py",
   "mimetype": "text/x-python",
   "name": "python",
   "nbconvert_exporter": "python",
   "pygments_lexer": "ipython3",
   "version": "3.5.5"
  }
 },
 "nbformat": 4,
 "nbformat_minor": 2
}
